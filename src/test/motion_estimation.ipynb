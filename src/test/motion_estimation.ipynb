{
 "cells": [
  {
   "cell_type": "markdown",
   "id": "63d41c82-148f-4f9b-85ac-e575da0d4d7d",
   "metadata": {},
   "source": [
    "# Motion Estimation"
   ]
  },
  {
   "cell_type": "code",
   "execution_count": 3,
   "id": "bf44b4f5-a83f-4ed3-9724-bf4854b6734d",
   "metadata": {
    "tags": []
   },
   "outputs": [],
   "source": [
    "import numpy as np\n",
    "import cv2 as cv"
   ]
  },
  {
   "cell_type": "code",
   "execution_count": null,
   "id": "0f1635e3-db85-46fb-b08a-d83fb8987c7d",
   "metadata": {},
   "outputs": [],
   "source": []
  }
 ],
 "metadata": {
  "kernelspec": {
   "display_name": "virtualenv",
   "language": "python",
   "name": "virtualenv"
  },
  "language_info": {
   "codemirror_mode": {
    "name": "ipython",
    "version": 3
   },
   "file_extension": ".py",
   "mimetype": "text/x-python",
   "name": "python",
   "nbconvert_exporter": "python",
   "pygments_lexer": "ipython3",
   "version": "3.8.10"
  }
 },
 "nbformat": 4,
 "nbformat_minor": 5
}
